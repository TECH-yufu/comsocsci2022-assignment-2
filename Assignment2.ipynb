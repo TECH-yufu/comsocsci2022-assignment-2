{
 "cells": [
  {
   "cell_type": "markdown",
   "metadata": {},
   "source": [
    "# Formalia:\n",
    "\n",
    "Please read the [assignment overview page](https://github.com/lalessan/comsocsci2022/wiki/Assignments) carefully before proceeding. This page contains information about formatting (including formats etc), group sizes, and many other aspects of handing in the assignment. \n",
    "\n",
    "_If you fail to follow these simple instructions, it will negatively impact your grade!_\n",
    "\n",
    "**Due date and time**: The assignment is due on Tuesday, April 5th at 23:55. Hand in your Jupyter notebook file (with extension `.ipynb`) via DTU Learn _(Course Content, Assignemnts, Assignment 2)_\n",
    "\n",
    "\n",
    "Remember to include in the first cell of your notebook:\n",
    "* the link to your group's Git repository\n",
    "* group members' contributions"
   ]
  },
  {
   "cell_type": "markdown",
   "metadata": {},
   "source": [
    "## Part 1: TF-IDF"
   ]
  },
  {
   "cell_type": "markdown",
   "metadata": {},
   "source": [
    "For this exercise, you need the following data: \n",
    "* The r/wallstreetbets submissions (either the one provided by me [here](https://github.com/lalessan/comsocsci2021/blob/master/data/wallstreet_subs.csv.gz) or the one you downloaded in Week 6).\n",
    "* The list of 15 stocks you identified in Week 6, Exercise 2.\n",
    "\n",
    "_Exercise_\n",
    "\n",
    "\n",
    "> 1. Tokenize the __text__ of each submission. Create a column __tokens__ in your dataframe containing the tokens. Remember to follow the instructions in Week 6, Exercise 3."
   ]
  },
  {
   "cell_type": "code",
   "execution_count": 1,
   "metadata": {},
   "outputs": [],
   "source": [
    "# Getting the data\n",
    "import pandas as pd\n",
    "df = pd.read_csv('..\\data\\wallstreet_subs.csv')\n",
    "    \n",
    "df['text'] = df['title']+ ' ' + df['selftext']\n",
    "    \n",
    "from nltk.tokenize import word_tokenize\n",
    "from nltk.corpus import stopwords\n",
    "\n",
    "stopwords = stopwords.words('english')\n",
    "alphabet = \"abcdefghijklmnopqrstuvwxyz\"\n",
    "URL1 = '.com'\n",
    "URL2 = 'www.'\n",
    "URL3 = 'https'\n",
    "URL4 = '='\n",
    "char1 = 'amp' # a part of \"&amp\" which means ampersand in HTML\n",
    "char2 = 'x200b' # character code for zero width space\n",
    "\n",
    "all_subs = []\n",
    "for text in df['text']:\n",
    "    tokens = word_tokenize(text)\n",
    "    sub = []\n",
    "    for token in tokens:\n",
    "        token = token.lower()\n",
    "        # remove stopwords, punctuation and numbers\n",
    "        if token not in stopwords and token[0] in alphabet and token[-1] in alphabet:\n",
    "            # remove URLs\n",
    "            if token[-4:] == URL1 or token[:4] == URL2 or token[:5] == URL3 or URL4 in token or token in char1 or token in char2:\n",
    "                pass\n",
    "            else:\n",
    "                sub.append(token)\n",
    "    all_subs.append(sub)\n",
    "\n",
    "df['token'] = all_subs"
   ]
  },
  {
   "cell_type": "markdown",
   "metadata": {},
   "source": [
    "> 2. Find submissions discussing at least one of the top 15 stocks you identified above (follow the instructions in Week 6, Exercise 3)."
   ]
  },
  {
   "cell_type": "code",
   "execution_count": 8,
   "metadata": {},
   "outputs": [],
   "source": [
    "import re\n",
    "import numpy as np\n",
    "\n",
    "# find ze tickers\n",
    "tickers = []\n",
    "for text in df['text']:\n",
    "    ticker = re.findall('\\$[a-zA-Z]+', text)\n",
    "    if ticker != []:\n",
    "        tickers.extend(ticker)\n",
    "        \n",
    "\n",
    "cleaned_tickers = [t.upper()[1:] for t in tickers]\n",
    "tick,count = np.unique(cleaned_tickers,return_counts=True)\n",
    "dic = {t:c for (t,c) in zip(tick,count)}"
   ]
  },
  {
   "cell_type": "markdown",
   "metadata": {},
   "source": [
    "The 16 most mentioned stocks have been printed, as $ROPE is a \"joke\" stock when people have lost a lot of money:\n",
    "\n",
    "(source: https://www.urbandictionary.com/define.php?term=%24ROPE)"
   ]
  },
  {
   "cell_type": "code",
   "execution_count": 12,
   "metadata": {},
   "outputs": [
    {
     "name": "stdout",
     "output_type": "stream",
     "text": [
      "['SPY', 'TSLA', 'SPCE', 'PLTR', 'MSFT', 'ROPE', 'AAPL', 'AMZN', 'NIO', 'ZM', 'AMD', 'BABA', 'GME', 'DIS', 'BA', 'WORK']\n",
      "[1150, 988, 562, 394, 377, 359, 243, 230, 228, 227, 212, 207, 202, 169, 164, 149]\n"
     ]
    }
   ],
   "source": [
    "# sort the stocks\n",
    "print(sorted(dic, key=dic.get, reverse=True)[:16])\n",
    "print(sorted(dic.values(), reverse=True)[:16])"
   ]
  },
  {
   "cell_type": "markdown",
   "metadata": {},
   "source": [
    "Short description of each of the stocks:\n",
    "\n",
    "__Number 1__: S&P500: famous index fund, many people are saying this\n",
    "\n",
    "__Number 2__: TSLA: Elon Musk!!!\n",
    "\n",
    "__Number 3__: SPCE: Virgin galactic. Notable because of the billionaire space race, which peaked in 2020-2021\n",
    "\n",
    "__Number 4__: PLTR: Palantir, data company, went public in late 2020 so that might be why it is so mentioned.\n",
    "\n",
    "__Number 5__: MSFT: microsoft, not much to say, top 10 company.\n",
    "\n",
    "__Number 6__: Apple: top 5 company\n",
    "\n",
    "__Number 7__: AMZN: Amazon top 5 company\n",
    "\n",
    "__Number 8__: NIO: NIO, Chinese Electric vehichle producer\n",
    "\n",
    "__Number 9__: ZM: Zoom, grew immensely during the corona pandemic, which happened in 2020.\n",
    "\n",
    "__Number 10__: AMD: Computer parts producer, mainly known for their processors.\n",
    "\n",
    "__Number 11__: BABA: Alibaba, chinese shipping? company, massive international cooperation.\n",
    "\n",
    "__NUmber 12__: GME: gamestop, as we know, had the whole thing happen\n",
    "\n",
    "__Number 13__: DIS: Disney, entertainment giant.\n",
    "\n",
    "__Number 14__: Boeing: big airplane company\n",
    "\n",
    "__Number 15__: WORK: slack technologies, the communications platform which is used by many workplaces. Also saw growth during lockdowns in 2020? which may be why it grew"
   ]
  },
  {
   "cell_type": "code",
   "execution_count": 16,
   "metadata": {},
   "outputs": [],
   "source": [
    "def token_intersection(token_list):\n",
    "    top15_stocks = set(sorted(dic, key=dic.get, reverse=True)[:16])\n",
    "    token_list = set([token.upper() for token in token_list])\n",
    "\n",
    "    intersection = top15_stocks.intersection(token_list)\n",
    "    if len(intersection) == 0:\n",
    "        return ['Other']\n",
    "    else:\n",
    "        return list(intersection)\n",
    "\n",
    "stocks = []\n",
    "for token_list in df['token']:\n",
    "    intersections = token_intersection(token_list)\n",
    "    stocks.append(intersections)\n",
    "    \n",
    "df['stock'] = stocks\n",
    "df2 = df.explode('stock')"
   ]
  },
  {
   "cell_type": "code",
   "execution_count": 32,
   "metadata": {},
   "outputs": [
    {
     "data": {
      "text/plain": [
       "array([ 43, 124, 133, 249, 283, 365, 456, 504, 520, 525], dtype=int64)"
      ]
     },
     "execution_count": 32,
     "metadata": {},
     "output_type": "execute_result"
    }
   ],
   "source": [
    "np.where(df2['stock']=='TSLA')[0][:10]"
   ]
  },
  {
   "cell_type": "code",
   "execution_count": 39,
   "metadata": {},
   "outputs": [
    {
     "data": {
      "text/plain": [
       "42     Any Canadian here trading US options on stock ...\n",
       "114    Call your friends &amp; family Like many other...\n",
       "118    Here are all positions commented in the last 2...\n",
       "224    Here are all positions posted in the last 24 h...\n",
       "252    The Last Bear As the lone bear stood there.. w...\n",
       "326    Here are all positions posted in the last 24 h...\n",
       "411    Question: Will the TSLA stock drop in price ag...\n",
       "455    Week of opportunities Msft 9/18 $170c. Tsla 5/...\n",
       "469    JPow - An Inevitable Ending “WOOHHH YOU’RE THE...\n",
       "472    CALL OPTION LOTTERY WINNER I have recently had...\n",
       "Name: text, dtype: object"
      ]
     },
     "execution_count": 39,
     "metadata": {},
     "output_type": "execute_result"
    }
   ],
   "source": [
    "# some TESLA submissions\n",
    "df2.iloc[np.where(df2['stock']=='TSLA')[0][:10]]['text']"
   ]
  },
  {
   "cell_type": "markdown",
   "metadata": {},
   "source": [
    "> 3. Now, we want to find out which words are important for each *stock*, so we're going to create several ***large documents, one for each stock***. Each document includes all the tokens related to the same stock. We will also have a document including discussions that do not relate to the top 15 stocks."
   ]
  },
  {
   "cell_type": "code",
   "execution_count": null,
   "metadata": {},
   "outputs": [
    {
     "name": "stdout",
     "output_type": "stream",
     "text": [
      "0\n",
      "10000\n"
     ]
    }
   ],
   "source": [
    "# create document for each stock\n",
    "\n",
    "dic = {}\n",
    "for i in range(len(df2)):\n",
    "    stock = df2['stock'].iloc[i]\n",
    "    dic[stock] = list(dic.get(stock, '')) + df2['token'].iloc[i]\n",
    "    \n",
    "    if i % 10000 == 0:\n",
    "        print(i)"
   ]
  },
  {
   "cell_type": "code",
   "execution_count": 42,
   "metadata": {},
   "outputs": [
    {
     "data": {
      "text/plain": [
       "89159"
      ]
     },
     "execution_count": 42,
     "metadata": {},
     "output_type": "execute_result"
    }
   ],
   "source": [
    "len(df2)"
   ]
  },
  {
   "cell_type": "markdown",
   "metadata": {},
   "source": [
    "> 4. Now, we're ready to calculate the TF for each word. Find the top 5 terms within __5 stocks of your choice__. \n",
    "\n",
    "We choose the 5 stocks: \\\\$GME, \\\\$TSLA, \\\\$AMZN, \\\\$AAPL, \\\\$SPY"
   ]
  },
  {
   "cell_type": "code",
   "execution_count": null,
   "metadata": {},
   "outputs": [],
   "source": [
    "import numpy as np\n",
    "from collections import Counter\n",
    "\n",
    "# compute term frequencies\n",
    "\n",
    "five_stocks = ['GME', 'TSLA', 'AMZN', 'AAPL', 'SPY']\n",
    "\n",
    "# for key in dic.keys():\n",
    "for key in five_stocks:\n",
    "    print(\"stock:\", key)\n",
    "    a = dict(Counter(dic[key],sorted=True))\n",
    "    print(sorted(a, key=a.get, reverse=True)[:5])\n",
    "    counts = sorted(a.values(), reverse=True)[:5]\n",
    "    tf = [count/len(dic[key]) for count in counts]\n",
    "    print(np.round(tf,3))\n",
    "    print(\"\\n\")"
   ]
  },
  {
   "cell_type": "markdown",
   "metadata": {},
   "source": [
    ">   * Describe similarities and differences between the stocks.\n",
    "\n",
    "\n",
    "\n",
    "\n",
    ">   * Why are the TFs not necessarily a good description of the stocks?\n",
    "\n",
    "The term frequency just describes the most common terms in a document, not necesarrily the terms that are most descriptive for that document. For example, in many of the stock we have terms like \"n't\" and \"like\" that are not descriptive of what the stock is about."
   ]
  },
  {
   "cell_type": "markdown",
   "metadata": {},
   "source": [
    ">   * Next, we calculate IDF for every word. \n",
    "\n",
    "Formula:\n",
    "$$\\operatorname{idf}(t, D)=\\log \\frac{N}{|\\{d \\in D: t \\in d\\}|}$$\n",
    "\n",
    "\n",
    "(source: https://en.wikipedia.org/wiki/Tf%E2%80%93idf)"
   ]
  },
  {
   "cell_type": "code",
   "execution_count": null,
   "metadata": {},
   "outputs": [],
   "source": []
  },
  {
   "cell_type": "markdown",
   "metadata": {},
   "source": [
    ">   * What base logarithm did you use? Is that important?\n",
    "\n",
    "The natural logarithm was used. The base is not important, however, as the logarithm will scale the same percentage as a function of $N$, the number of documents, no matter what base. The important thing is there for that they all reach 0 when $|\\{d \\in D: t \\in d\\}|=N$."
   ]
  },
  {
   "cell_type": "markdown",
   "metadata": {},
   "source": [
    "> 5. We're ready to calculate TF-IDF. Do that for the __5 stock of your choice__. \n",
    ">   * List the 10 top TF words for each stock.\n",
    ">  * List the 10 top TF-IDF words for each stock.\n",
    ">   * Are these 10 words more descriptive of the stock? If yes, what is it about IDF that makes the words more informative?"
   ]
  },
  {
   "cell_type": "markdown",
   "metadata": {},
   "source": [
    "> 6. Visualize the results in a Wordcloud and comment your results (follow the instrutions in Week 6, Exercise 4). "
   ]
  },
  {
   "cell_type": "markdown",
   "metadata": {},
   "source": [
    "## Part 2: Sentiment analysis"
   ]
  },
  {
   "cell_type": "markdown",
   "metadata": {},
   "source": [
    "_Exercise: Creating Word Shifts_\n",
    ">    1. Pick a day of your choice in 2020. We call it $d$. It is more interesting if you pick a day where you expect something relevant to occur (e.g. Christmas, New Year, Corona starting, the market crashes...).\n",
    ">    2. Build two lists $l$ and $l_{ref}$ containing all tokens for submissions posted on r/wallstreebets on day $d$, and in the 7 days preceding day $d$, respectively. \n",
    ">    3. For each token $i$, compute the relative frequency in the two lists $l$ and $l_{ref}$. We call them $p(i,l)$ and $p(i,l_{ref})$, respectively. The relative frequency is computed as the number of times a token occurs over the total length of the document. Store the result in a dictionary.\n",
    ">    4. For each token $i$, compute the difference in relative frequency $\\delta p(i) = p(i,l) - p(i,l_{ref})$. Store the values in a dictionary. Print the top 10 tokens (those with largest relative frequency). Do you notice anything interesting?\n",
    ">    5. Now, for each token, compute the happiness $h(i) = labMT(i) - 5$, using the labMT dictionary. Here, we subtract $5$, so that positive tokens will have a positive value and negative tokens will have a negative value. Then, compute the product $\\delta \\Phi = h(i)\\cdot \\delta p(i)$. Store the results in a dictionary. \n",
    ">    6. Print the top 10 tokens, ordered by the absolute value of $|\\delta \\Phi|$. Explain in your own words the meaning of $\\delta \\Phi$. If that is unclear, have a look at [this page](https://shifterator.readthedocs.io/en/latest/cookbook/weighted_avg_shifts.html).\n",
    ">    7. Now install the [``shifterator``](https://shifterator.readthedocs.io/en/latest/installation.html) Python package. We will use it for plotting Word Shifts. \n",
    ">    8. Use the function ``shifterator.WeightedAvgShift`` to plot the WordShift, showing which words contributed the most to make your day of choice _d_ happier or more sad then days in the preceding 7 days. Comment on the figure. \n",
    ">    9. How do words that you printed in step 6 relate to those shown by the WordShift? "
   ]
  },
  {
   "cell_type": "markdown",
   "metadata": {},
   "source": [
    ">    1. Pick a day of your choice in 2020. We call it $d$. It is more interesting if you pick a day where you expect something relevant to occur (e.g. Christmas, New Year, Corona starting, the market crashes...).\n",
    ">\n",
    "> We pick the date 20/02/2020 where stock markets across the world suddenly crashed due to the COVID-19 pandemic."
   ]
  },
  {
   "cell_type": "markdown",
   "metadata": {},
   "source": [
    ">    2. Build two lists $l$ and $l_{ref}$ containing all tokens for submissions posted on r/wallstreebets on day $d$, and in the 7 days preceding day $d$, respectively. "
   ]
  },
  {
   "cell_type": "code",
   "execution_count": 2,
   "metadata": {},
   "outputs": [],
   "source": [
    "df['date'] = [date.strftime('%Y-%m-%d') for date in pd.to_datetime(df['created_utc'], unit='s')]\n",
    "df = df.set_index('date')"
   ]
  },
  {
   "cell_type": "code",
   "execution_count": 3,
   "metadata": {},
   "outputs": [
    {
     "data": {
      "text/plain": [
       "11033"
      ]
     },
     "execution_count": 3,
     "metadata": {},
     "output_type": "execute_result"
    }
   ],
   "source": [
    "l = [token for token in df.loc[\"2020-12-25\"]['token'] for token in token]\n",
    "len(l)"
   ]
  },
  {
   "cell_type": "code",
   "execution_count": 4,
   "metadata": {
    "scrolled": true
   },
   "outputs": [
    {
     "data": {
      "text/plain": [
       "106770"
      ]
     },
     "execution_count": 4,
     "metadata": {},
     "output_type": "execute_result"
    }
   ],
   "source": [
    "l_ref = []\n",
    "for i in range(18,25):\n",
    "    l_ref.extend(token for token in df.loc[\"2020-12-{}\".format(i)]['token'])\n",
    "l_ref = [token for token in l_ref for token in token]\n",
    "len(l_ref)"
   ]
  },
  {
   "cell_type": "markdown",
   "metadata": {},
   "source": [
    ">    3. For each token $i$, compute the relative frequency in the two lists $l$ and $l_{ref}$. We call them $p(i,l)$ and $p(i,l_{ref})$, respectively. The relative frequency is computed as the number of times a token occurs over the total length of the document. Store the result in a dictionary."
   ]
  },
  {
   "cell_type": "code",
   "execution_count": 5,
   "metadata": {},
   "outputs": [],
   "source": [
    "from collections import Counter\n",
    "p = dict([(item[0], item[1]/len(l)) for item in Counter(l).items()])\n",
    "p_ref = dict([(item[0], item[1]/len(l_ref)) for item in Counter(l_ref).items()])"
   ]
  },
  {
   "cell_type": "markdown",
   "metadata": {},
   "source": [
    ">    4. For each token $i$, compute the difference in relative frequency $\\delta p(i) = p(i,l) - p(i,l_{ref})$. Store the values in a dictionary. Print the top 10 tokens (those with largest relative frequency). Do you notice anything interesting?"
   ]
  },
  {
   "cell_type": "code",
   "execution_count": 6,
   "metadata": {},
   "outputs": [
    {
     "name": "stdout",
     "output_type": "stream",
     "text": [
      "[('christmas', 0.0033387648577762417), ('gme', 0.0028411466240715216), ('cerner', 0.0022659294842744494), ('like', 0.0021371783395630374), ('merry', 0.0019598759894590583), ('make', 0.00190637738796858), ('money', 0.0018447369752263723), ('robinhood', 0.0013320592345249197), ('trading', 0.001290349323770835), ('options', 0.0012776616466810289)]\n"
     ]
    }
   ],
   "source": [
    "all_tokens = set(p.keys()).union(set(p_ref.keys()))\n",
    "delta_p = dict([(token, p.get(token,0) - p_ref.get(token,0)) for token in all_tokens])\n",
    "# printing the top 10 tokens with largest relative frequency\n",
    "print(sorted(delta_p.items(), key=lambda x:x[1], reverse=True)[:10])"
   ]
  },
  {
   "cell_type": "markdown",
   "metadata": {},
   "source": [
    "As expected, the Reddit users are wishing each other Merry Christmas on Christmas day. Also, it is worth noting that people are  already actively discussing the GME stock before its large surge in price in January 2021. One of the other stocks that was discussed is Cerner, a health informatics company, who on the 16th of December acquired another lifescience company called Kantar Health for $375 million dollars."
   ]
  },
  {
   "cell_type": "markdown",
   "metadata": {},
   "source": [
    ">    5. Now, for each token, compute the happiness $h(i) = labMT(i) - 5$, using the labMT dictionary. Here, we subtract $5$, so that positive tokens will have a positive value and negative tokens will have a negative value. Then, compute the product $\\delta \\Phi = h(i)\\cdot \\delta p(i)$. Store the results in a dictionary. "
   ]
  },
  {
   "cell_type": "code",
   "execution_count": 7,
   "metadata": {
    "scrolled": true
   },
   "outputs": [
    {
     "data": {
      "text/html": [
       "<div>\n",
       "<style scoped>\n",
       "    .dataframe tbody tr th:only-of-type {\n",
       "        vertical-align: middle;\n",
       "    }\n",
       "\n",
       "    .dataframe tbody tr th {\n",
       "        vertical-align: top;\n",
       "    }\n",
       "\n",
       "    .dataframe thead th {\n",
       "        text-align: right;\n",
       "    }\n",
       "</style>\n",
       "<table border=\"1\" class=\"dataframe\">\n",
       "  <thead>\n",
       "    <tr style=\"text-align: right;\">\n",
       "      <th></th>\n",
       "      <th>Rank</th>\n",
       "      <th>Word</th>\n",
       "      <th>Word in English</th>\n",
       "      <th>Happiness Score</th>\n",
       "      <th>Standard Deviation of Ratings</th>\n",
       "    </tr>\n",
       "  </thead>\n",
       "  <tbody>\n",
       "    <tr>\n",
       "      <th>0</th>\n",
       "      <td>0</td>\n",
       "      <td>laughter</td>\n",
       "      <td>laughter</td>\n",
       "      <td>8.50</td>\n",
       "      <td>0.93</td>\n",
       "    </tr>\n",
       "    <tr>\n",
       "      <th>1</th>\n",
       "      <td>1</td>\n",
       "      <td>happiness</td>\n",
       "      <td>happiness</td>\n",
       "      <td>8.44</td>\n",
       "      <td>0.97</td>\n",
       "    </tr>\n",
       "    <tr>\n",
       "      <th>2</th>\n",
       "      <td>2</td>\n",
       "      <td>love</td>\n",
       "      <td>love</td>\n",
       "      <td>8.42</td>\n",
       "      <td>1.11</td>\n",
       "    </tr>\n",
       "    <tr>\n",
       "      <th>3</th>\n",
       "      <td>3</td>\n",
       "      <td>happy</td>\n",
       "      <td>happy</td>\n",
       "      <td>8.30</td>\n",
       "      <td>0.99</td>\n",
       "    </tr>\n",
       "    <tr>\n",
       "      <th>4</th>\n",
       "      <td>4</td>\n",
       "      <td>laughed</td>\n",
       "      <td>laughed</td>\n",
       "      <td>8.26</td>\n",
       "      <td>1.16</td>\n",
       "    </tr>\n",
       "    <tr>\n",
       "      <th>...</th>\n",
       "      <td>...</td>\n",
       "      <td>...</td>\n",
       "      <td>...</td>\n",
       "      <td>...</td>\n",
       "      <td>...</td>\n",
       "    </tr>\n",
       "    <tr>\n",
       "      <th>10182</th>\n",
       "      <td>10182</td>\n",
       "      <td>quarantined</td>\n",
       "      <td>quarantined</td>\n",
       "      <td>2.14</td>\n",
       "      <td>1.01</td>\n",
       "    </tr>\n",
       "    <tr>\n",
       "      <th>10183</th>\n",
       "      <td>10183</td>\n",
       "      <td>sanitizer</td>\n",
       "      <td>sanitizer</td>\n",
       "      <td>5.14</td>\n",
       "      <td>1.55</td>\n",
       "    </tr>\n",
       "    <tr>\n",
       "      <th>10184</th>\n",
       "      <td>10184</td>\n",
       "      <td>self-quarantine</td>\n",
       "      <td>self-quarantine</td>\n",
       "      <td>3.14</td>\n",
       "      <td>1.80</td>\n",
       "    </tr>\n",
       "    <tr>\n",
       "      <th>10185</th>\n",
       "      <td>10185</td>\n",
       "      <td>ventilator</td>\n",
       "      <td>ventilator</td>\n",
       "      <td>2.98</td>\n",
       "      <td>1.70</td>\n",
       "    </tr>\n",
       "    <tr>\n",
       "      <th>10186</th>\n",
       "      <td>10186</td>\n",
       "      <td>ventilators</td>\n",
       "      <td>ventilators</td>\n",
       "      <td>3.26</td>\n",
       "      <td>1.97</td>\n",
       "    </tr>\n",
       "  </tbody>\n",
       "</table>\n",
       "<p>10187 rows × 5 columns</p>\n",
       "</div>"
      ],
      "text/plain": [
       "        Rank             Word  Word in English  Happiness Score  \\\n",
       "0          0         laughter         laughter             8.50   \n",
       "1          1        happiness        happiness             8.44   \n",
       "2          2             love             love             8.42   \n",
       "3          3            happy            happy             8.30   \n",
       "4          4          laughed          laughed             8.26   \n",
       "...      ...              ...              ...              ...   \n",
       "10182  10182      quarantined      quarantined             2.14   \n",
       "10183  10183        sanitizer        sanitizer             5.14   \n",
       "10184  10184  self-quarantine  self-quarantine             3.14   \n",
       "10185  10185       ventilator       ventilator             2.98   \n",
       "10186  10186      ventilators      ventilators             3.26   \n",
       "\n",
       "       Standard Deviation of Ratings  \n",
       "0                               0.93  \n",
       "1                               0.97  \n",
       "2                               1.11  \n",
       "3                               0.99  \n",
       "4                               1.16  \n",
       "...                              ...  \n",
       "10182                           1.01  \n",
       "10183                           1.55  \n",
       "10184                           1.80  \n",
       "10185                           1.70  \n",
       "10186                           1.97  \n",
       "\n",
       "[10187 rows x 5 columns]"
      ]
     },
     "execution_count": 7,
     "metadata": {},
     "output_type": "execute_result"
    }
   ],
   "source": [
    "# load labMT dataframe \n",
    "labMT = pd.read_csv('..\\data\\Hedonometer.csv')\n",
    "labMT"
   ]
  },
  {
   "cell_type": "code",
   "execution_count": 8,
   "metadata": {},
   "outputs": [
    {
     "data": {
      "text/html": [
       "<div>\n",
       "<style scoped>\n",
       "    .dataframe tbody tr th:only-of-type {\n",
       "        vertical-align: middle;\n",
       "    }\n",
       "\n",
       "    .dataframe tbody tr th {\n",
       "        vertical-align: top;\n",
       "    }\n",
       "\n",
       "    .dataframe thead th {\n",
       "        text-align: right;\n",
       "    }\n",
       "</style>\n",
       "<table border=\"1\" class=\"dataframe\">\n",
       "  <thead>\n",
       "    <tr style=\"text-align: right;\">\n",
       "      <th></th>\n",
       "      <th>Rank</th>\n",
       "      <th>Word in English</th>\n",
       "      <th>Happiness Score</th>\n",
       "      <th>Standard Deviation of Ratings</th>\n",
       "    </tr>\n",
       "    <tr>\n",
       "      <th>Word</th>\n",
       "      <th></th>\n",
       "      <th></th>\n",
       "      <th></th>\n",
       "      <th></th>\n",
       "    </tr>\n",
       "  </thead>\n",
       "  <tbody>\n",
       "    <tr>\n",
       "      <th>laughter</th>\n",
       "      <td>0</td>\n",
       "      <td>laughter</td>\n",
       "      <td>8.50</td>\n",
       "      <td>0.93</td>\n",
       "    </tr>\n",
       "    <tr>\n",
       "      <th>happiness</th>\n",
       "      <td>1</td>\n",
       "      <td>happiness</td>\n",
       "      <td>8.44</td>\n",
       "      <td>0.97</td>\n",
       "    </tr>\n",
       "    <tr>\n",
       "      <th>love</th>\n",
       "      <td>2</td>\n",
       "      <td>love</td>\n",
       "      <td>8.42</td>\n",
       "      <td>1.11</td>\n",
       "    </tr>\n",
       "    <tr>\n",
       "      <th>happy</th>\n",
       "      <td>3</td>\n",
       "      <td>happy</td>\n",
       "      <td>8.30</td>\n",
       "      <td>0.99</td>\n",
       "    </tr>\n",
       "    <tr>\n",
       "      <th>laughed</th>\n",
       "      <td>4</td>\n",
       "      <td>laughed</td>\n",
       "      <td>8.26</td>\n",
       "      <td>1.16</td>\n",
       "    </tr>\n",
       "    <tr>\n",
       "      <th>...</th>\n",
       "      <td>...</td>\n",
       "      <td>...</td>\n",
       "      <td>...</td>\n",
       "      <td>...</td>\n",
       "    </tr>\n",
       "    <tr>\n",
       "      <th>quarantined</th>\n",
       "      <td>10182</td>\n",
       "      <td>quarantined</td>\n",
       "      <td>2.14</td>\n",
       "      <td>1.01</td>\n",
       "    </tr>\n",
       "    <tr>\n",
       "      <th>sanitizer</th>\n",
       "      <td>10183</td>\n",
       "      <td>sanitizer</td>\n",
       "      <td>5.14</td>\n",
       "      <td>1.55</td>\n",
       "    </tr>\n",
       "    <tr>\n",
       "      <th>self-quarantine</th>\n",
       "      <td>10184</td>\n",
       "      <td>self-quarantine</td>\n",
       "      <td>3.14</td>\n",
       "      <td>1.80</td>\n",
       "    </tr>\n",
       "    <tr>\n",
       "      <th>ventilator</th>\n",
       "      <td>10185</td>\n",
       "      <td>ventilator</td>\n",
       "      <td>2.98</td>\n",
       "      <td>1.70</td>\n",
       "    </tr>\n",
       "    <tr>\n",
       "      <th>ventilators</th>\n",
       "      <td>10186</td>\n",
       "      <td>ventilators</td>\n",
       "      <td>3.26</td>\n",
       "      <td>1.97</td>\n",
       "    </tr>\n",
       "  </tbody>\n",
       "</table>\n",
       "<p>10187 rows × 4 columns</p>\n",
       "</div>"
      ],
      "text/plain": [
       "                  Rank  Word in English  Happiness Score  \\\n",
       "Word                                                       \n",
       "laughter             0         laughter             8.50   \n",
       "happiness            1        happiness             8.44   \n",
       "love                 2             love             8.42   \n",
       "happy                3            happy             8.30   \n",
       "laughed              4          laughed             8.26   \n",
       "...                ...              ...              ...   \n",
       "quarantined      10182      quarantined             2.14   \n",
       "sanitizer        10183        sanitizer             5.14   \n",
       "self-quarantine  10184  self-quarantine             3.14   \n",
       "ventilator       10185       ventilator             2.98   \n",
       "ventilators      10186      ventilators             3.26   \n",
       "\n",
       "                 Standard Deviation of Ratings  \n",
       "Word                                            \n",
       "laughter                                  0.93  \n",
       "happiness                                 0.97  \n",
       "love                                      1.11  \n",
       "happy                                     0.99  \n",
       "laughed                                   1.16  \n",
       "...                                        ...  \n",
       "quarantined                               1.01  \n",
       "sanitizer                                 1.55  \n",
       "self-quarantine                           1.80  \n",
       "ventilator                                1.70  \n",
       "ventilators                               1.97  \n",
       "\n",
       "[10187 rows x 4 columns]"
      ]
     },
     "execution_count": 8,
     "metadata": {},
     "output_type": "execute_result"
    }
   ],
   "source": [
    "# make as dic\n",
    "labMTdic = labMT.set_index(\"Word\")\n",
    "labMTdic"
   ]
  },
  {
   "cell_type": "code",
   "execution_count": 10,
   "metadata": {},
   "outputs": [],
   "source": [
    "# compute happiness\n",
    "import numpy as np\n",
    "h = dict([(token, labMTdic['Happiness Score'].get(token, np.nan)-5) for token in all_tokens])"
   ]
  },
  {
   "cell_type": "code",
   "execution_count": 11,
   "metadata": {},
   "outputs": [],
   "source": [
    "# compute delta phi\n",
    "d_phi = dict([(token, h[token]*delta_p[token]) for token in all_tokens if not np.isnan(h[token])])"
   ]
  },
  {
   "cell_type": "markdown",
   "metadata": {},
   "source": [
    ">    6. Print the top 10 tokens, ordered by the absolute value of $|\\delta \\Phi|$. Explain in your own words the meaning of $\\delta \\Phi$. If that is unclear, have a look at [this page](https://shifterator.readthedocs.io/en/latest/cookbook/weighted_avg_shifts.html)."
   ]
  },
  {
   "cell_type": "code",
   "execution_count": 12,
   "metadata": {
    "scrolled": true
   },
   "outputs": [
    {
     "data": {
      "text/plain": [
       "[('christmas', 0.009882743979017675),\n",
       " ('merry', 0.005017282533015189),\n",
       " ('like', 0.0047445359138299425),\n",
       " ('money', 0.0042428950430206565),\n",
       " ('million', -0.0028884855815959104),\n",
       " ('market', -0.0025156758729236012),\n",
       " ('us', -0.001941480470591087),\n",
       " ('make', 0.00190637738796858),\n",
       " ('thanks', 0.0018765415674099574),\n",
       " ('gains', 0.0018502844595709585)]"
      ]
     },
     "execution_count": 12,
     "metadata": {},
     "output_type": "execute_result"
    }
   ],
   "source": [
    "# print top 10 tokens ordered by |d_phi|\n",
    "sorted(d_phi.items(), key=lambda x:abs(x[1]), reverse=True)[:10]"
   ]
  },
  {
   "cell_type": "code",
   "execution_count": 13,
   "metadata": {},
   "outputs": [
    {
     "name": "stdout",
     "output_type": "stream",
     "text": [
      "2.96\n",
      "0.0033387648577762417\n"
     ]
    }
   ],
   "source": [
    "print(h['christmas'])\n",
    "print(delta_p['christmas'])"
   ]
  },
  {
   "cell_type": "markdown",
   "metadata": {},
   "source": [
    "$\\delta \\Phi$ is a measure for how the relative frequency contributes to the overall sentiment. E.g., the word christmas has a positive sentiment, as the happiness is 2.96. Since this word is used more on Christmas Day (as indicated by the positive relative frequency $\\delta p$), it contributes positively to the overall sentiment. "
   ]
  },
  {
   "cell_type": "markdown",
   "metadata": {},
   "source": [
    ">    8. Use the function ``shifterator.WeightedAvgShift`` to plot the WordShift, showing which words contributed the most to make your day of choice _d_ happier or more sad then days in the preceding 7 days. Comment on the figure. "
   ]
  },
  {
   "cell_type": "code",
   "execution_count": 22,
   "metadata": {},
   "outputs": [
    {
     "name": "stderr",
     "output_type": "stream",
     "text": [
      "C:\\Users\\Yucheng\\anaconda3\\lib\\site-packages\\shifterator\\plotting.py:604: UserWarning: FixedFormatter should only be used together with FixedLocator\n",
      "  ax.set_xticklabels(x_ticks, fontsize=plot_params[\"xtick_fontsize\"])\n"
     ]
    },
    {
     "data": {
      "image/png": "[encoded data removed]",
      "text/plain": [
       "<Figure size 504x1080 with 3 Axes>"
      ]
     },
     "metadata": {
      "needs_background": "light"
     },
     "output_type": "display_data"
    },
    {
     "data": {
      "text/plain": [
       "<AxesSubplot:title={'center':'reference: $\\\\Phi_{avg}=$5.64\\nd: $\\\\Phi_{avg}=$5.67'}, xlabel='Score shift $\\\\delta \\\\Phi_{\\\\tau}$ (%)', ylabel='Rank'>"
      ]
     },
     "execution_count": 22,
     "metadata": {},
     "output_type": "execute_result"
    }
   ],
   "source": [
    "import shifterator as sh\n",
    "sentiment_shift = sh.WeightedAvgShift(type2freq_1 = p_ref,\n",
    "                                      type2freq_2 = p,\n",
    "                                      type2score_1 = dict(labMTdic['Happiness Score']),\n",
    "                                      reference_value=5)\n",
    "sentiment_shift.get_shift_graph(detailed=True,\n",
    "                             system_names = ['reference', 'd'])"
   ]
  },
  {
   "cell_type": "markdown",
   "metadata": {},
   "source": [
    "The figure shows the $\\delta \\Phi$ of different words. Some words are associated with positive happiness (the words of the yellow bars), while the words with negative happines have blue bars. If the word is on the rigt side of the plot, it contributes positively to the sentiment change. \n",
    "\n",
    "Most of these words have positive happiness and are used more, such as \"Christmas\" and \"money\", however there are two words \"covid\" and \"debt\" which have negative happiness and are also used less, resulting in a positive change in sentiment."
   ]
  },
  {
   "cell_type": "markdown",
   "metadata": {},
   "source": [
    ">    9. How do words that you printed in step 6 relate to those shown by the WordShift? \n",
    ">\n",
    "> The top words that we printed in step 6 are also the uppermost 10 bars in the plot, because they contribute most to the absolute change in sentiment. "
   ]
  },
  {
   "cell_type": "markdown",
   "metadata": {},
   "source": [
    "## Part 3: Communities for the Zachary Karate Club Network"
   ]
  },
  {
   "cell_type": "markdown",
   "metadata": {},
   "source": [
    "_Exercise: Zachary's karate club_: In this exercise, we will work on Zarachy's karate club graph (refer to the Introduction of Chapter 9). The dataset is available in NetworkX, by calling the function [karate_club_graph](https://networkx.org/documentation/stable/auto_examples/graph/plot_karate_club.html).\n",
    "\n",
    "> 1. Visualize the graph using [netwulf](https://netwulf.readthedocs.io/en/latest/). Set the color of each node based on the club split (the information is stored as a node attribute). My version of the visualization is below.\n",
    ">\n",
    "> 2. Write a function to compute the __modularity__ of a graph partitioning (use **equation 9.12** in the book). The function should take a networkX Graph and a partitioning as inputs and return the modularity.\n",
    "> 3. Explain in your own words the concept of _modularity_. \n",
    "> 4. Compute the modularity of the Karate club split partitioning using the function you just wrote. Note: the Karate club split partitioning is avilable as a [node attribute](https://networkx.org/documentation/networkx-1.10/reference/generated/networkx.classes.function.get_node_attributes.html), called _\"club\"_.\n",
    "> 5. We will now perform a small randomization experiment to assess if the modularity you just computed is statitically different from $0$. To do so, we will implement a [configuration model](https://en.wikipedia.org/wiki/Configuration_model). In short, we will create a new network, such that each node has the same degree as in the original network, but different connections. Here is how the algorithm works.\n",
    ">       * __a.__ Create an identical copy of your original network. \n",
    ">       * __b.__ Consider the list of network edges. Create two lists: the list of source nodes and target nodes. (e.g. edges = [(1,2),(3,4)], sources = [1,3], targets = [2,4])\n",
    ">       * __c.__ Concatenate the list of source nodes and target nodes into a unique list (e.g. [1,3,2,4]). This is the list of _stubs_ (see the [Wikipedia page](https://en.wikipedia.org/wiki/Configuration_model) for the definition of stub).\n",
    ">       * __d.__ Shuffle the list of stubs. Build a set of edges (tuples), by connecting each element in the list of shuffled stubs with the following element. (e.g. [4,1,2,3] --> [(4,1),(2,3)])\n",
    ">       * __e.__ Remove all the original network edges from your network. Add all the new _shuffled_ edges you created in step __d.__\n",
    "> 6. Is the degree of the nodes in your original and the configuration model network the same? Why? __Note 1:__ With this algorithm you may obtain some self-loops. Note that [a self-loop should add two to the degree](https://en.wikipedia.org/wiki/Loop_(graph_theory%29#:~:text=For%20an%20undirected%20graph%2C%20the,adds%20two%20to%20the%20degree.&text=In%20other%20words%2C%20a%20vertex,not%20one%2C%20to%20the%20degree.). __Note 2:__ With this algorithm, you could also obtain repeated edges between the same two nodes. Only NetworkX [MultiGraph](https://networkx.org/documentation/stable/reference/classes/multigraph.html) allow for repeated edges, while regular [Graph](https://networkx.org/documentation/stable/reference/classes/graph.html?highlight=graph%20undirected#networkx.Graph) do not, meaning you will not be able to account for multi-edges when you have a regular Graph. (_Optional_: if you want to implement a configuration model without self-loops and multi-edges, you can try out the [double_edge_swap](https://networkx.org/documentation/stable//reference/algorithms/generated/networkx.algorithms.swap.double_edge_swap.html) algorithm)\n",
    "> 7. Create $1000$ randomized version of the Karate Club network using the algorithm you wrote in step 5. For each of them, compute the modularity of the \"club\" split and store it in a list.\n",
    "> 8. Compute the average and standard deviation of the modularity for the configuration model.\n",
    "> 9. Plot the distribution of the configuration model modularity. Plot the actual modularity of the club split as a vertical line (use [axvline](https://matplotlib.org/stable/api/_as_gen/matplotlib.pyplot.axvline.html)). \n",
    "> 10. Comment on the figure. Is the club split a good partitioning? Why do you think I asked you to compare with the configuration model? What is the reason why we preserved the nodes degree?\n",
    "> 11.  Use [the Python Louvain-algorithm implementation](https://anaconda.org/auto/python-louvain) to find communities in this graph. Report the value of modularity found by the algorithm. Is it higher or lower than what you found above for the club split? What does this comparison reveal?\n",
    "> 12.  Compare the communities found by the Louvain algorithm with the club split partitioning by creating a matrix **_D_** with dimension (2 times _A_), where _A_ is the number of communities found by Louvain. We set entry _D_(_i_,_j_) to be the number of nodes that community _i_ has in common with group split _j_. The matrix **_D_** is what we call a [**confusion matrix**](https://en.wikipedia.org/wiki/Confusion_matrix). Use the confusion matrix to explain how well the communities you've detected correspond to the club split partitioning."
   ]
  },
  {
   "cell_type": "markdown",
   "metadata": {},
   "source": [
    "_Exercise: Community detection on the GME network._\n",
    "> * Consider the GME network you built in [Week 4](https://github.com/lalessan/comsocsci2022/blob/main/lectures/Week4.ipynb), part 2.\n",
    "> * Use [the Python Louvain-algorithm implementation](https://anaconda.org/auto/python-louvain) to find communities. How many communities do you find? What are their sizes? Report the value of modularity found by the algorithm. Is the modularity significantly different than 0? \n",
    "> * Visualize the network, using netwulf (see Week 4). This time assign each node a different color based on their _community_. Describe the structure you observe."
   ]
  }
 ],
 "metadata": {
  "anaconda-cloud": {},
  "kernelspec": {
   "display_name": "Python 3",
   "language": "python",
   "name": "python3"
  },
  "language_info": {
   "codemirror_mode": {
    "name": "ipython",
    "version": 3
   },
   "file_extension": ".py",
   "mimetype": "text/x-python",
   "name": "python",
   "nbconvert_exporter": "python",
   "pygments_lexer": "ipython3",
   "version": "3.8.5"
  }
 },
 "nbformat": 4,
 "nbformat_minor": 4
}
